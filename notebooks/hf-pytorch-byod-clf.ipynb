{
 "cells": [
  {
   "cell_type": "code",
   "execution_count": 2,
   "metadata": {},
   "outputs": [],
   "source": [
    "%load_ext autoreload\n",
    "%autoreload 2\n",
    "import warnings\n",
    "warnings.simplefilter(action=\"ignore\")"
   ]
  },
  {
   "cell_type": "markdown",
   "metadata": {},
   "source": [
    "### Kernel specs\n",
    "* leveraging Python 3 (Data Science) out of the box"
   ]
  },
  {
   "cell_type": "code",
   "execution_count": 25,
   "metadata": {},
   "outputs": [],
   "source": [
    "%%capture\n",
    "!pip3 install hydra-core==1.1.1"
   ]
  },
  {
   "cell_type": "code",
   "execution_count": 7,
   "metadata": {},
   "outputs": [
    {
     "name": "stdout",
     "output_type": "stream",
     "text": [
      "Name: sagemaker\n",
      "Version: 2.70.0\n",
      "Summary: Open source library for training and deploying models on Amazon SageMaker.\n",
      "Home-page: https://github.com/aws/sagemaker-python-sdk/\n",
      "Author: Amazon Web Services\n",
      "Author-email: \n",
      "License: Apache License 2.0\n",
      "Location: /opt/conda/lib/python3.7/site-packages\n",
      "Requires: attrs, boto3, google-pasta, importlib-metadata, numpy, packaging, pandas, pathos, protobuf, protobuf3-to-dict, smdebug-rulesconfig\n",
      "Required-by: \n"
     ]
    }
   ],
   "source": [
    "!pip3 show sagemaker"
   ]
  },
  {
   "cell_type": "code",
   "execution_count": 38,
   "metadata": {},
   "outputs": [],
   "source": [
    "import sagemaker, boto3, os, time, tarfile\n",
    "from sagemaker.huggingface import HuggingFace\n",
    "import pandas as pd\n",
    "from IPython.display import display\n",
    "from omegaconf import OmegaConf\n",
    "\n",
    "parent_dir = os.path.dirname(os.getcwd())\n",
    "conf = OmegaConf.load(os.path.join(parent_dir,'conf/config.yaml'))"
   ]
  },
  {
   "cell_type": "code",
   "execution_count": 36,
   "metadata": {},
   "outputs": [],
   "source": [
    "sagemaker_session = sagemaker.Session()\n",
    "s3_bucket = sagemaker_session.default_bucket()\n",
    "data_prefix = conf['ag-news']['data_prefix']\n",
    "iam_role = sagemaker.get_execution_role()\n",
    "aws_region = boto3.Session().region_name"
   ]
  },
  {
   "cell_type": "markdown",
   "metadata": {},
   "source": [
    "### [AWS Open Data Registry](https://registry.opendata.aws/fast-ai-nlp/)\n",
    "\n",
    "* AG news dataset for text classification "
   ]
  },
  {
   "cell_type": "code",
   "execution_count": 13,
   "metadata": {},
   "outputs": [
    {
     "name": "stdout",
     "output_type": "stream",
     "text": [
      "--2022-04-03 05:43:46--  https://s3.amazonaws.com/fast-ai-nlp/ag_news_csv.tgz\n",
      "Resolving s3.amazonaws.com (s3.amazonaws.com)... 52.217.79.142\n",
      "Connecting to s3.amazonaws.com (s3.amazonaws.com)|52.217.79.142|:443... connected.\n",
      "HTTP request sent, awaiting response... 200 OK\n",
      "Length: 11784419 (11M) [application/x-tar]\n",
      "Saving to: ‘ag_news_csv.tgz’\n",
      "\n",
      "ag_news_csv.tgz     100%[===================>]  11.24M  28.3MB/s    in 0.4s    \n",
      "\n",
      "2022-04-03 05:43:47 (28.3 MB/s) - ‘ag_news_csv.tgz’ saved [11784419/11784419]\n",
      "\n"
     ]
    }
   ],
   "source": [
    "!wget -nc https://s3.amazonaws.com/fast-ai-nlp/ag_news_csv.tgz\n",
    "tf = tarfile.open('ag_news_csv.tgz')\n",
    "tf.extractall()\n",
    "!rm -fr ag_news_csv.tgz"
   ]
  },
  {
   "cell_type": "code",
   "execution_count": 40,
   "metadata": {},
   "outputs": [],
   "source": [
    "std_cols = conf['ag-news']['std_cols']\n",
    "data_folder = conf['ag-news']['data_folder']\n",
    "train = pd.read_csv(f'{parent_dir}/notebooks/{data_folder}/train.csv',names=std_cols)\n",
    "test = pd.read_csv(f'{parent_dir}/notebooks/{data_folder}/test.csv',names=std_cols)\n",
    "train.to_csv(f'{parent_dir}/notebooks/{data_folder}/ag-train.csv',index=False)\n",
    "test.to_csv(f'{parent_dir}/notebooks/{data_folder}/ag-test.csv',index=False)"
   ]
  }
 ],
 "metadata": {
  "instance_type": "ml.t3.medium",
  "kernelspec": {
   "display_name": "Python 3 (Data Science)",
   "language": "python",
   "name": "python3__SAGEMAKER_INTERNAL__arn:aws:sagemaker:us-east-1:081325390199:image/datascience-1.0"
  },
  "language_info": {
   "codemirror_mode": {
    "name": "ipython",
    "version": 3
   },
   "file_extension": ".py",
   "mimetype": "text/x-python",
   "name": "python",
   "nbconvert_exporter": "python",
   "pygments_lexer": "ipython3",
   "version": "3.7.10"
  }
 },
 "nbformat": 4,
 "nbformat_minor": 4
}
