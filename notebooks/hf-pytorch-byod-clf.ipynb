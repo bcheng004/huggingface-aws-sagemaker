{
 "cells": [
  {
   "cell_type": "code",
   "execution_count": 1,
   "metadata": {},
   "outputs": [],
   "source": [
    "%load_ext autoreload\n",
    "%autoreload 2\n",
    "import warnings\n",
    "warnings.simplefilter(action=\"ignore\")"
   ]
  },
  {
   "cell_type": "markdown",
   "metadata": {},
   "source": [
    "### Kernel specs\n",
    "* leveraging Python 3 (Data Science) out of the box"
   ]
  },
  {
   "cell_type": "code",
   "execution_count": 2,
   "metadata": {},
   "outputs": [],
   "source": [
    "%%capture\n",
    "!pip3 install hydra-core==1.1.1"
   ]
  },
  {
   "cell_type": "code",
   "execution_count": 3,
   "metadata": {},
   "outputs": [
    {
     "name": "stdout",
     "output_type": "stream",
     "text": [
      "Name: sagemaker\n",
      "Version: 2.70.0\n",
      "Summary: Open source library for training and deploying models on Amazon SageMaker.\n",
      "Home-page: https://github.com/aws/sagemaker-python-sdk/\n",
      "Author: Amazon Web Services\n",
      "Author-email: \n",
      "License: Apache License 2.0\n",
      "Location: /opt/conda/lib/python3.7/site-packages\n",
      "Requires: attrs, boto3, google-pasta, importlib-metadata, numpy, packaging, pandas, pathos, protobuf, protobuf3-to-dict, smdebug-rulesconfig\n",
      "Required-by: \n"
     ]
    }
   ],
   "source": [
    "!pip3 show sagemaker"
   ]
  },
  {
   "cell_type": "code",
   "execution_count": 32,
   "metadata": {},
   "outputs": [],
   "source": [
    "import sagemaker, boto3, os, time, tarfile\n",
    "from sagemaker.huggingface import HuggingFace, HuggingFaceModel\n",
    "import pandas as pd\n",
    "from IPython.display import display\n",
    "from omegaconf import OmegaConf\n",
    "\n",
    "parent_dir = os.path.dirname(os.getcwd())\n",
    "conf = OmegaConf.load(os.path.join(parent_dir,'conf/config.yaml'))"
   ]
  },
  {
   "cell_type": "code",
   "execution_count": 5,
   "metadata": {},
   "outputs": [],
   "source": [
    "sagemaker_session = sagemaker.Session()\n",
    "s3_bucket = sagemaker_session.default_bucket()\n",
    "data_prefix = conf['ag-news']['data_prefix']\n",
    "iam_role = sagemaker.get_execution_role()\n",
    "aws_region = boto3.Session().region_name"
   ]
  },
  {
   "cell_type": "markdown",
   "metadata": {},
   "source": [
    "### [AWS Open Data Registry](https://registry.opendata.aws/fast-ai-nlp/)\n",
    "\n",
    "* AG news dataset for text classification "
   ]
  },
  {
   "cell_type": "code",
   "execution_count": 6,
   "metadata": {},
   "outputs": [
    {
     "name": "stdout",
     "output_type": "stream",
     "text": [
      "--2022-04-16 02:58:54--  https://s3.amazonaws.com/fast-ai-nlp/ag_news_csv.tgz\n",
      "Resolving s3.amazonaws.com (s3.amazonaws.com)... 52.216.177.21\n",
      "Connecting to s3.amazonaws.com (s3.amazonaws.com)|52.216.177.21|:443... connected.\n",
      "HTTP request sent, awaiting response... 200 OK\n",
      "Length: 11784419 (11M) [application/x-tar]\n",
      "Saving to: ‘ag_news_csv.tgz’\n",
      "\n",
      "ag_news_csv.tgz     100%[===================>]  11.24M  44.4MB/s    in 0.3s    \n",
      "\n",
      "2022-04-16 02:58:54 (44.4 MB/s) - ‘ag_news_csv.tgz’ saved [11784419/11784419]\n",
      "\n"
     ]
    }
   ],
   "source": [
    "!wget -nc https://s3.amazonaws.com/fast-ai-nlp/ag_news_csv.tgz\n",
    "tf = tarfile.open('ag_news_csv.tgz')\n",
    "tf.extractall()\n",
    "!rm -fr ag_news_csv.tgz"
   ]
  },
  {
   "cell_type": "code",
   "execution_count": 7,
   "metadata": {},
   "outputs": [],
   "source": [
    "std_cols = conf['ag-news']['std_cols']\n",
    "data_folder = conf['ag-news']['data_folder']\n",
    "train = pd.read_csv(f'{parent_dir}/notebooks/{data_folder}/train.csv',names=std_cols)\n",
    "test = pd.read_csv(f'{parent_dir}/notebooks/{data_folder}/test.csv',names=std_cols)\n",
    "cleaned_train_dir = f'{parent_dir}/notebooks/{data_folder}/ag-train.csv'\n",
    "cleaned_test_dir = f'{parent_dir}/notebooks/{data_folder}/ag-test.csv'\n",
    "train.to_csv(cleaned_train_dir,index=False)\n",
    "test.to_csv(cleaned_test_dir,index=False)"
   ]
  },
  {
   "cell_type": "code",
   "execution_count": 8,
   "metadata": {},
   "outputs": [
    {
     "name": "stdout",
     "output_type": "stream",
     "text": [
      "s3://sagemaker-us-east-1-937500302629/news-hf/train/ag-train.csv\n",
      "s3://sagemaker-us-east-1-937500302629/news-hf/test/ag-test.csv\n"
     ]
    }
   ],
   "source": [
    "# upload train test data to s3 bucket\n",
    "train_s3 = sagemaker_session.upload_data(cleaned_train_dir,bucket=s3_bucket,key_prefix=f\"{data_prefix}/train\")\n",
    "test_s3 = sagemaker_session.upload_data(cleaned_test_dir,bucket=s3_bucket,key_prefix=f\"{data_prefix}/test\")\n",
    "print(train_s3)\n",
    "print(test_s3)"
   ]
  },
  {
   "cell_type": "code",
   "execution_count": 9,
   "metadata": {},
   "outputs": [],
   "source": [
    "class_cols = conf['ag-news']['class_cols']\n",
    "class_labels = pd.read_csv(f\"{parent_dir}/notebooks/{data_folder}/classes.txt\",names=class_cols)"
   ]
  },
  {
   "cell_type": "markdown",
   "metadata": {},
   "source": [
    "### Amazon BORT Model\n",
    "\n",
    "* [https://huggingface.co/amazon/bort](https://huggingface.co/amazon/bort)"
   ]
  },
  {
   "cell_type": "code",
   "execution_count": 10,
   "metadata": {},
   "outputs": [],
   "source": [
    "amazon_bort_hyperparams = conf['amazon-bort']['hyperparameters']\n",
    "# git config to download the fine-tuning script\n",
    "git_config = conf['amazon-bort']['git_config']"
   ]
  },
  {
   "cell_type": "code",
   "execution_count": 11,
   "metadata": {},
   "outputs": [],
   "source": [
    "# creates HF estimator - note: the entry_point and other parameters are pointing to the HF repo in the git_config\n",
    "# need to change the size of the instance type\n",
    "hf_estimator_bort = HuggingFace(\n",
    "    entry_point=conf['amazon-bort']['HuggingFace_estimator']['entry_point'],\n",
    "    source_dir=conf['amazon-bort']['HuggingFace_estimator']['source_dir'],\n",
    "    instance_type=conf['amazon-bort']['HuggingFace_estimator']['instance_type'],\n",
    "    instance_count=conf['amazon-bort']['HuggingFace_estimator']['instance_count'],\n",
    "    role=iam_role,\n",
    "    git_config=git_config,\n",
    "    transformers_version=conf['amazon-bort']['HuggingFace_estimator']['transformers_version'],\n",
    "    pytorch_version=conf['amazon-bort']['HuggingFace_estimator']['pytorch_version'],\n",
    "    py_version=conf['amazon-bort']['HuggingFace_estimator']['py_version'],\n",
    "    hyperparameters=amazon_bort_hyperparams,\n",
    "    disable_profiler=True\n",
    ")"
   ]
  },
  {
   "cell_type": "code",
   "execution_count": 13,
   "metadata": {},
   "outputs": [],
   "source": [
    "%%capture\n",
    "# start the training job\n",
    "# the wait=True parameter allows the cell to execute with the training job not complete\n",
    "hf_estimator_bort.fit(\n",
    "    {\n",
    "        \"train\": os.path.dirname(train_s3),\n",
    "        \"test\": os.path.dirname(test_s3)\n",
    "    },\n",
    "    wait=True\n",
    ")"
   ]
  },
  {
   "cell_type": "code",
   "execution_count": 19,
   "metadata": {},
   "outputs": [
    {
     "name": "stdout",
     "output_type": "stream",
     "text": [
      "Time - TrainingJobStatus - SecondaryStatus\n",
      "------------------------------------------\n",
      "03:25 - Completed - Completed\n"
     ]
    }
   ],
   "source": [
    "# make sure status of training job is complete\n",
    "client = boto3.client(\"sagemaker\")\n",
    "describe_resp = client.describe_training_job(TrainingJobName=hf_estimator_bort.latest_training_job.name)\n",
    "print('Time - TrainingJobStatus - SecondaryStatus')\n",
    "print('-'*42)\n",
    "print(time.strftime(\"%H:%M\", time.localtime()), '-', describe_resp['TrainingJobStatus'] + \" - \" + describe_resp['SecondaryStatus'])"
   ]
  },
  {
   "cell_type": "markdown",
   "metadata": {},
   "source": [
    "### Inference Endpoint"
   ]
  },
  {
   "cell_type": "code",
   "execution_count": 24,
   "metadata": {},
   "outputs": [],
   "source": [
    "hf_model_bort = HuggingFaceModel(\n",
    "    env=conf['amazon-bort']['HuggingFace_model']['env'],\n",
    "    model_data=hf_estimator_bort.model_data,\n",
    "    role=iam_role,\n",
    "    transformers_version=conf['amazon-bort']['HuggingFace_estimator']['transformers_version'],\n",
    "    pytorch_version=conf['amazon-bort']['HuggingFace_estimator']['pytorch_version'],\n",
    "    py_version=conf['amazon-bort']['HuggingFace_estimator']['py_version']\n",
    ")"
   ]
  },
  {
   "cell_type": "code",
   "execution_count": 33,
   "metadata": {},
   "outputs": [
    {
     "name": "stdout",
     "output_type": "stream",
     "text": [
      "------!"
     ]
    }
   ],
   "source": [
    "hf_endpoint_bort = hf_model_bort.deploy(\n",
    "    initial_instance_count=conf['amazon-bort']['HuggingFace_model']['deploy']['initial_instance_count'],\n",
    "    instance_type=conf['amazon-bort']['HuggingFace_model']['deploy']['instance_type']\n",
    ")"
   ]
  },
  {
   "cell_type": "code",
   "execution_count": 36,
   "metadata": {},
   "outputs": [
    {
     "data": {
      "text/html": [
       "<div>\n",
       "<style scoped>\n",
       "    .dataframe tbody tr th:only-of-type {\n",
       "        vertical-align: middle;\n",
       "    }\n",
       "\n",
       "    .dataframe tbody tr th {\n",
       "        vertical-align: top;\n",
       "    }\n",
       "\n",
       "    .dataframe thead th {\n",
       "        text-align: right;\n",
       "    }\n",
       "</style>\n",
       "<table border=\"1\" class=\"dataframe\">\n",
       "  <thead>\n",
       "    <tr style=\"text-align: right;\">\n",
       "      <th></th>\n",
       "      <th>label</th>\n",
       "    </tr>\n",
       "  </thead>\n",
       "  <tbody>\n",
       "    <tr>\n",
       "      <th>0</th>\n",
       "      <td>World</td>\n",
       "    </tr>\n",
       "    <tr>\n",
       "      <th>1</th>\n",
       "      <td>Sports</td>\n",
       "    </tr>\n",
       "    <tr>\n",
       "      <th>2</th>\n",
       "      <td>Business</td>\n",
       "    </tr>\n",
       "    <tr>\n",
       "      <th>3</th>\n",
       "      <td>Sci/Tech</td>\n",
       "    </tr>\n",
       "  </tbody>\n",
       "</table>\n",
       "</div>"
      ],
      "text/plain": [
       "      label\n",
       "0     World\n",
       "1    Sports\n",
       "2  Business\n",
       "3  Sci/Tech"
      ]
     },
     "execution_count": 36,
     "metadata": {},
     "output_type": "execute_result"
    }
   ],
   "source": [
    "class_labels"
   ]
  },
  {
   "cell_type": "code",
   "execution_count": 43,
   "metadata": {},
   "outputs": [
    {
     "name": "stdout",
     "output_type": "stream",
     "text": [
      "label: LABEL_0\n",
      "score: 0.852148711681366\n",
      "label_name: World\n"
     ]
    }
   ],
   "source": [
    "test_input_data = {\n",
    "    \"inputs\": \"Stocks went up 30% after yesterday's market closure\"\n",
    "}\n",
    "pred_resp = hf_endpoint_bort.predict(test_input_data)\n",
    "pred_label_name = class_labels['label'][int(pred_resp[0]['label'][-1:])]\n",
    "print(f\"label: {pred_resp[0]['label']}\")\n",
    "print(f\"score: {pred_resp[0]['score']}\")\n",
    "print(f\"label_name: {pred_label_name}\")"
   ]
  },
  {
   "cell_type": "markdown",
   "metadata": {},
   "source": [
    "### Delete Endpoint"
   ]
  },
  {
   "cell_type": "code",
   "execution_count": 47,
   "metadata": {},
   "outputs": [
    {
     "name": "stderr",
     "output_type": "stream",
     "text": [
      "The endpoint attribute has been renamed in sagemaker>=2.\n",
      "See: https://sagemaker.readthedocs.io/en/stable/v2.html for details.\n"
     ]
    },
    {
     "data": {
      "text/plain": [
       "{'ResponseMetadata': {'RequestId': '2ab344ee-5b6e-4f68-b149-0388f81a6cf5',\n",
       "  'HTTPStatusCode': 200,\n",
       "  'HTTPHeaders': {'x-amzn-requestid': '2ab344ee-5b6e-4f68-b149-0388f81a6cf5',\n",
       "   'content-type': 'application/x-amz-json-1.1',\n",
       "   'content-length': '0',\n",
       "   'date': 'Sat, 16 Apr 2022 04:10:25 GMT'},\n",
       "  'RetryAttempts': 0}}"
      ]
     },
     "execution_count": 47,
     "metadata": {},
     "output_type": "execute_result"
    }
   ],
   "source": [
    "client.delete_endpoint(EndpointName=hf_endpoint_bort.endpoint)"
   ]
  }
 ],
 "metadata": {
  "instance_type": "ml.t3.medium",
  "kernelspec": {
   "display_name": "Python 3 (Data Science)",
   "language": "python",
   "name": "python3__SAGEMAKER_INTERNAL__arn:aws:sagemaker:us-east-1:081325390199:image/datascience-1.0"
  },
  "language_info": {
   "codemirror_mode": {
    "name": "ipython",
    "version": 3
   },
   "file_extension": ".py",
   "mimetype": "text/x-python",
   "name": "python",
   "nbconvert_exporter": "python",
   "pygments_lexer": "ipython3",
   "version": "3.7.10"
  }
 },
 "nbformat": 4,
 "nbformat_minor": 4
}
